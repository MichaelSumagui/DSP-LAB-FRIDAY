{
  "nbformat": 4,
  "nbformat_minor": 0,
  "metadata": {
    "colab": {
      "provenance": [],
      "authorship_tag": "ABX9TyPXxc8B3Pv7PAP/lJ0VwKl8",
      "include_colab_link": true
    },
    "kernelspec": {
      "name": "python3",
      "display_name": "Python 3"
    },
    "language_info": {
      "name": "python"
    }
  },
  "cells": [
    {
      "cell_type": "markdown",
      "metadata": {
        "id": "view-in-github",
        "colab_type": "text"
      },
      "source": [
        "<a href=\"https://colab.research.google.com/github/MichaelSumagui/DSP-LAB-FRIDAY/blob/main/DSPPRELIM.ipynb\" target=\"_parent\"><img src=\"https://colab.research.google.com/assets/colab-badge.svg\" alt=\"Open In Colab\"/></a>"
      ]
    },
    {
      "cell_type": "markdown",
      "source": [
        "PRELIM PROBLEM SET PART 1"
      ],
      "metadata": {
        "id": "CPOF1vPewIdK"
      }
    },
    {
      "cell_type": "code",
      "source": [
        "import numpy as np\n"
      ],
      "metadata": {
        "id": "QMgxiX2IwMHQ"
      },
      "execution_count": null,
      "outputs": []
    },
    {
      "cell_type": "markdown",
      "source": [
        "PRELIM PROBLEM SET PART 3 #1\n",
        "\n",
        "\n"
      ],
      "metadata": {
        "id": "gCvTY-VprU4R"
      }
    },
    {
      "cell_type": "code",
      "execution_count": null,
      "metadata": {
        "colab": {
          "base_uri": "https://localhost:8080/"
        },
        "id": "bEInjR0Pdik2",
        "outputId": "43be34d5-b410-4968-b7ed-c29f7b2f110a"
      },
      "outputs": [
        {
          "output_type": "stream",
          "name": "stdout",
          "text": [
            "The resulting linear transformation is -18124.99999999999\n",
            "The resulting linear transformation is independent\n"
          ]
        }
      ],
      "source": [
        "A = np.array([[5,0,0],[0,5,0],[0,0,5]])\n",
        "B = np.array([[1,0,5],[2,7,6],[6,4,7]])\n",
        "\n",
        "prodAB = np.dot(A,B)\n",
        "detprodAB = np.linalg.det(prodAB)\n",
        "print(\"The resulting linear transformation is\",detprodAB)\n",
        "\n",
        "if (detprodAB != 0):\n",
        "                  print(\"The resulting linear transformation is independent\")\n",
        "if (detprodAB == 0):\n",
        "                  print(\"The resulting linear transformation is dependent\")"
      ]
    },
    {
      "cell_type": "markdown",
      "source": [
        "PRELIM PROBLEM SET PART 3 #2\n"
      ],
      "metadata": {
        "id": "ZWfGgaURt9ke"
      }
    },
    {
      "cell_type": "code",
      "source": [
        "A = np.array([[1,2,6],[3,15,4],[2,10,3]])\n",
        "B = np.array([[5,2,4],[6,2,4],[0,1,1]])\n",
        "\n",
        "prodAB = np.dot(A,B)\n",
        "detprodAB = np.linalg.det(prodAB)\n",
        "print(\"The resulting linear transformation is\",detprodAB)\n",
        "\n",
        "if (detprodAB !=0):\n",
        "                  print(\"The resulting linear transformation is independent\")\n",
        "if (detprodAB == 0):\n",
        "                  print(\"The resulting linear transformation is dependent\")"
      ],
      "metadata": {
        "colab": {
          "base_uri": "https://localhost:8080/"
        },
        "id": "0ze53FN0uGk-",
        "outputId": "c4437cf4-4345-492a-8f56-0f05aca641ab"
      },
      "execution_count": null,
      "outputs": [
        {
          "output_type": "stream",
          "name": "stdout",
          "text": [
            "The resulting linear transformation is 6.000000000001367\n",
            "The resulting linear transformation is independent\n"
          ]
        }
      ]
    },
    {
      "cell_type": "markdown",
      "source": [
        "PRELIM PROBLEM SET PART 2\n"
      ],
      "metadata": {
        "id": "S1ORU5I3v2dX"
      }
    },
    {
      "cell_type": "code",
      "source": [
        "H = np.array([[1,1],[1,-1]])\n",
        "scalH = np.dot(1 / np.sqrt(2),H)\n",
        "determinantH = np.linalg.det(scalH)\n",
        "\n",
        "print(\"Determinant of H is\",determinantH)"
      ],
      "metadata": {
        "colab": {
          "base_uri": "https://localhost:8080/"
        },
        "id": "CJirShkhv6tj",
        "outputId": "f1883c20-dead-4a81-f5de-24038efe2161"
      },
      "execution_count": null,
      "outputs": [
        {
          "output_type": "stream",
          "name": "stdout",
          "text": [
            "Determinant of H is -0.9999999999999999\n"
          ]
        }
      ]
    },
    {
      "cell_type": "code",
      "source": [
        "Y = np.array([[0,-1],[1,0]])\n",
        "detY = np.linalg.det(Y)\n",
        "\n",
        "print(\"Determinant of H is\",detY)"
      ],
      "metadata": {
        "colab": {
          "base_uri": "https://localhost:8080/"
        },
        "id": "8Eq-MDOX48Ya",
        "outputId": "558acfcb-af26-4d7f-a866-5ad0a520cc56"
      },
      "execution_count": null,
      "outputs": [
        {
          "output_type": "stream",
          "name": "stdout",
          "text": [
            "Determinant of H is 1.0\n"
          ]
        }
      ]
    },
    {
      "cell_type": "markdown",
      "source": [
        "PRELIM PROBLEM SET PART 4"
      ],
      "metadata": {
        "id": "pFiTzB5RmPdf"
      }
    },
    {
      "cell_type": "code",
      "source": [
        "import matplotlib.pyplot as plot\n",
        "\n",
        "timeval = [0, np.pi/4, np.pi/2, 3*np.pi/4, np.pi]\n",
        "amplitudeval = [5, 3, 0, -3, 5]\n",
        "\n",
        "plot.plot(timeval, amplitudeval, marker ='^')\n",
        "plot.title('Time and Amplitude Signal')\n",
        "plot.ylabel('Amplitude')\n",
        "plot.xlabel('Time')\n",
        "plot.figure(figsize=(3,3))\n",
        "plot.show()"
      ],
      "metadata": {
        "colab": {
          "base_uri": "https://localhost:8080/",
          "height": 489
        },
        "id": "orW665RkmRKs",
        "outputId": "e21ecee9-e570-4b90-db77-221c80e894a4"
      },
      "execution_count": null,
      "outputs": [
        {
          "output_type": "display_data",
          "data": {
            "text/plain": [
              "<Figure size 640x480 with 1 Axes>"
            ],
            "image/png": "[encoded data removed]"
          },
          "metadata": {}
        },
        {
          "output_type": "display_data",
          "data": {
            "text/plain": [
              "<Figure size 300x300 with 0 Axes>"
            ]
          },
          "metadata": {}
        }
      ]
    }
  ]
}